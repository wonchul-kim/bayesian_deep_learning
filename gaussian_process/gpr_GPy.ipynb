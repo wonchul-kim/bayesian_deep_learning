{
 "cells": [
  {
   "cell_type": "markdown",
   "metadata": {},
   "source": [
    "### Why GPy?\n",
    "* Specialized library of GP models (regression, classification, GPLVM)\n",
    "* Variety of covariance functions is implemented\n",
    "* There are GP models for large-scale problems\n",
    "* Easy to use"
   ]
  },
  {
   "cell_type": "markdown",
   "metadata": {},
   "source": [
    "Some state of the art on Gaussian Process Regression:\n",
    "1. Rasmussen C.E., Williams C.K. Gaussian processes for machine learning. Cambridge: MIT press. 2006.\n",
    "2. Burnaev E.V., Panov M.E. and Zaytsev, A.A. Regression on the basis of nonstationary Gaussian processes with Bayesian regularization. Journal of communications technology and electronics, 61(6), pp.661-671. 2016.\n",
    "3. Duvenaud, D.K., Nickisch H. and Rasmussen, C.E. Additive gaussian processes. NIPS. 226-234. 2011.\n",
    "4. http://gpss.cc/\n",
    "\n"
   ]
  },
  {
   "cell_type": "code",
   "execution_count": 12,
   "metadata": {},
   "outputs": [],
   "source": [
    "import matplotlib.pyplot as plt\n",
    "import GPy\n",
    "import numpy as np\n",
    "import seaborn as sns\n",
    "\n",
    "sns.set_style('darkgrid')"
   ]
  },
  {
   "cell_type": "markdown",
   "metadata": {},
   "source": [
    "## Gaussian Process Regression\n",
    "\n",
    "A data set $\\left (X, \\mathbf{y} \\right ) = \\left \\{ (\\mathbf{x}_i, y_i), \\mathbf{x}_i \\in \\mathbb{R}^d, y_i \\in \\mathbb{R} \\right \\}_{i = 1}^N$ is given.  \n",
    "\n",
    "Assumption:\n",
    "$$\n",
    "y = f(\\mathbf{x}) + \\varepsilon,\n",
    "$$\n",
    "where $f(\\mathbf{x})$ is a Gaussian Process and $\\varepsilon \\sim \\mathcal{N}(0, \\sigma_0^2)$ is a Gaussian noise .\n",
    "\n",
    "Posterior distribution\n",
    "$$\n",
    "y_* | X, \\mathbf{y}, \\mathbf{x}_* \\sim \\mathcal{N}(m(\\mathbf{x}_*), \\sigma^2(\\mathbf{x}_*)),\n",
    "$$\n",
    "with predictive mean and variance given by\n",
    "$$\n",
    "m(\\mathbf{x}_*) = \\mathbf{k}^T \\mathbf{K}_y^{-1} \\mathbf{y} = \\sum_{i = 1}^N \\alpha_i k(\\mathbf{x}_*, \\mathbf{x}_i),\n",
    "$$\n",
    "$$\n",
    "\\sigma^2(\\mathbf{x}_*) = k(\\mathbf{x}_*, \\mathbf{x}_*) - \\mathbf{k}^T\\mathbf{K}_y^{-1}\\mathbf{k},\n",
    "$$\n",
    "where\n",
    "$$\n",
    "\\mathbf{k} = \\left ( k(\\mathbf{x}_*, \\mathbf{x}_1), \\ldots, k(\\mathbf{x}_*, \\mathbf{x}_n) \\right )^T,\n",
    "$$\n",
    "$$\n",
    "\\mathbf{K} = \\{ k(\\mathbf{x}_i, \\mathbf{x}_j) \\}_{i, j = 1}^n\n",
    "$$\n",
    "$$\n",
    "\\mathbf{K}_y = \\mathbf{K} + \\sigma_0^2 \\mathbf{I}.\n",
    "$$"
   ]
  },
  {
   "cell_type": "markdown",
   "metadata": {},
   "source": [
    "## GP regression is a way to impose priors over wide range of functions\n",
    "\n",
    "GP defines distribution over functions, which is defined by its *mean function* $m(\\mathbf{x})$ and *covariance function* $k(\\mathbf{x}, \\mathbf{x}')$ for any set $\\mathbf{x}_1, \\ldots, \\mathbf{x}_n \\in \\mathbb{R}^d \\rightarrow$ $\\left (f(\\mathbf{x}_1), \\ldots, f(\\mathbf{x}_n) \\right ) \\sim \\mathcal{N}(\\mathbf{m}, \\mathbf{K})$,\n",
    "where $\\mathcal{m} = (m(\\mathbf{x}_1, \\ldots, \\mathbf{x}_n))$, $\\mathbf{K} = \\{ k(\\mathbf{x}_i, \\mathbf{x}_j) \\}_{i,j=1}^n$.\n",
    "\n",
    "Sampling procedure:\n",
    "\n",
    "1. Generate set of points $\\mathbf{x}_1, \\ldots, \\mathbf{x}_n$.\n",
    "2. Calculate mean and covariance matrix $\\mathcal{m} = (m(\\mathbf{x}_1), \\ldots, m(\\mathbf{x}_n))$, $\\mathbf{K} = \\{ k(\\mathbf{x}_i, \\mathbf{x}_j) \\}_{i,j=1}^n$.\n",
    "3. Generate vector from multivariate normal distribution $\\mathcal{N}(\\mathbf{m}, \\mathbf{K})$."
   ]
  },
  {
   "cell_type": "markdown",
   "metadata": {},
   "source": [
    "## Building GPR model\n",
    "\n",
    "$$\n",
    "f(x) = − \\cos(\\pi x) + \\sin(4\\pi x), \\quad x \\in [0, 1],\n",
    "$$\n",
    "with noise $y(x) = f(x) + \\epsilon$, $\\epsilon \\sim \\mathcal{N}(0, 0.1)$. "
   ]
  },
  {
   "cell_type": "code",
   "execution_count": 18,
   "metadata": {},
   "outputs": [],
   "source": [
    "n_X = 10\n",
    "X = np.linspace(0.1, 0.9, n_X).reshape(-1, 1)\n",
    "Y = (-np.cos(np.pi*X) + np.sin(4*np.pi*X) + np.random.normal(\\\n",
    "                            loc=0.0, scale=0.1, size=(n_X, 1)))"
   ]
  },
  {
   "cell_type": "code",
   "execution_count": 20,
   "metadata": {},
   "outputs": [
    {
     "data": {
      "text/plain": [
       "[<matplotlib.lines.Line2D at 0x7f9e49370630>]"
      ]
     },
     "execution_count": 20,
     "metadata": {},
     "output_type": "execute_result"
    },
    {
     "data": {
      "image/png": "[encoded data removed]",
      "text/plain": [
       "<Figure size 432x288 with 1 Axes>"
      ]
     },
     "metadata": {},
     "output_type": "display_data"
    }
   ],
   "source": [
    "plt.plot(X, Y, 'r.', markersize=12)"
   ]
  },
  {
   "cell_type": "markdown",
   "metadata": {},
   "source": [
    "#### 1. Define covariance function\n",
    "\n",
    "The most popular kernel - RBF (or squared exponential) kernel - has 2 parameters: `variance` and `lengthscale`, $k(x, x') = \\sigma^2 \\exp\\left ( -\\dfrac{\\|x - x'\\|^2}{2l^2}\\right )$,\n",
    "where \n",
    "* `variance` is $\\sigma^2$, \n",
    "* `lengthscale` is $l$."
   ]
  },
  {
   "cell_type": "code",
   "execution_count": 23,
   "metadata": {},
   "outputs": [
    {
     "name": "stdout",
     "output_type": "stream",
     "text": [
      "\n",
      "Name : GP regression\n",
      "Objective : 12.813817408181098\n",
      "Number of Parameters : 3\n",
      "Number of Optimization Parameters : 3\n",
      "Updates : True\n",
      "Parameters:\n",
      "  \u001b[1mGP_regression.         \u001b[0;0m  |  value  |  constraints  |  priors\n",
      "  \u001b[1mrbf.variance           \u001b[0;0m  |    0.5  |      +ve      |        \n",
      "  \u001b[1mrbf.lengthscale        \u001b[0;0m  |    0.2  |      +ve      |        \n",
      "  \u001b[1mGaussian_noise.variance\u001b[0;0m  |    1.0  |      +ve      |        \n"
     ]
    },
    {
     "data": {
      "text/plain": [
       "{'dataplot': [<matplotlib.collections.PathCollection at 0x7f9e493eb4e0>],\n",
       " 'gpmean': [[<matplotlib.lines.Line2D at 0x7f9e4923d4e0>]],\n",
       " 'gpconfidence': [<matplotlib.collections.PolyCollection at 0x7f9e4923da58>]}"
      ]
     },
     "execution_count": 23,
     "metadata": {},
     "output_type": "execute_result"
    },
    {
     "data": {
      "image/png": "[encoded data removed]",
      "text/plain": [
       "<Figure size 720x360 with 1 Axes>"
      ]
     },
     "metadata": {},
     "output_type": "display_data"
    }
   ],
   "source": [
    "input_dim = 1\n",
    "variance = 1\n",
    "lengthscale = 0.2\n",
    "kernel = GPy.kern.RBF(input_dim=input_dim, variance=variance,\\\n",
    "                         lengthscale=lengthscale)\n",
    "\n",
    "model = GPy.models.GPRegression(X, Y, kernel)\n",
    "print(model)\n",
    "model.plot(figsize=(10, 5))"
   ]
  },
  {
   "cell_type": "code",
   "execution_count": null,
   "metadata": {},
   "outputs": [],
   "source": []
  }
 ],
 "metadata": {
  "kernelspec": {
   "display_name": "Python 3",
   "language": "python",
   "name": "python3"
  },
  "language_info": {
   "codemirror_mode": {
    "name": "ipython",
    "version": 3
   },
   "file_extension": ".py",
   "mimetype": "text/x-python",
   "name": "python",
   "nbconvert_exporter": "python",
   "pygments_lexer": "ipython3",
   "version": "3.6.5"
  }
 },
 "nbformat": 4,
 "nbformat_minor": 2
}
